{
 "cells": [
  {
   "cell_type": "code",
   "execution_count": 1,
   "id": "initial_id",
   "metadata": {
    "collapsed": true,
    "ExecuteTime": {
     "end_time": "2024-03-01T17:44:55.764510Z",
     "start_time": "2024-03-01T17:44:55.626079800Z"
    }
   },
   "outputs": [],
   "source": [
    "from sor import SimpleOAuth2Requests"
   ]
  },
  {
   "cell_type": "code",
   "outputs": [],
   "source": [
    "my_sor = SimpleOAuth2Requests(auto_refresh=True)"
   ],
   "metadata": {
    "collapsed": false,
    "ExecuteTime": {
     "end_time": "2024-03-01T17:44:55.909910400Z",
     "start_time": "2024-03-01T17:44:55.764510Z"
    }
   },
   "id": "adcd855e1ada0123",
   "execution_count": 2
  },
  {
   "cell_type": "code",
   "outputs": [
    {
     "name": "stderr",
     "output_type": "stream",
     "text": [
      "HTTPSConnectionPool(host='www.pre.uporto.pt', port=443): Max retries exceeded with url: /cartao/api/v1/search_member/ (Caused by ConnectTimeoutError(<urllib3.connection.HTTPSConnection object at 0x0000023ADEE45250>, 'Connection to www.pre.uporto.pt timed out. (connect timeout=None)'))\n",
      "Traceback (most recent call last):\n",
      "  File \"D:\\Desenvolvimento\\Repositorios\\up\\sor\\venv\\Lib\\site-packages\\urllib3\\connection.py\", line 198, in _new_conn\n",
      "    sock = connection.create_connection(\n",
      "           ^^^^^^^^^^^^^^^^^^^^^^^^^^^^^\n",
      "  File \"D:\\Desenvolvimento\\Repositorios\\up\\sor\\venv\\Lib\\site-packages\\urllib3\\util\\connection.py\", line 85, in create_connection\n",
      "    raise err\n",
      "  File \"D:\\Desenvolvimento\\Repositorios\\up\\sor\\venv\\Lib\\site-packages\\urllib3\\util\\connection.py\", line 73, in create_connection\n",
      "    sock.connect(sa)\n",
      "TimeoutError: [WinError 10060] Uma tentativa de ligação falhou porque o componente ligado não respondeu\r\n",
      "corretamente após um período de tempo, ou a ligação estabelecida falhou\r\n",
      "porque o anfitrião ligado não respondeu\n",
      "\n",
      "The above exception was the direct cause of the following exception:\n",
      "\n",
      "Traceback (most recent call last):\n",
      "  File \"D:\\Desenvolvimento\\Repositorios\\up\\sor\\venv\\Lib\\site-packages\\urllib3\\connectionpool.py\", line 793, in urlopen\n",
      "    response = self._make_request(\n",
      "               ^^^^^^^^^^^^^^^^^^^\n",
      "  File \"D:\\Desenvolvimento\\Repositorios\\up\\sor\\venv\\Lib\\site-packages\\urllib3\\connectionpool.py\", line 491, in _make_request\n",
      "    raise new_e\n",
      "  File \"D:\\Desenvolvimento\\Repositorios\\up\\sor\\venv\\Lib\\site-packages\\urllib3\\connectionpool.py\", line 467, in _make_request\n",
      "    self._validate_conn(conn)\n",
      "  File \"D:\\Desenvolvimento\\Repositorios\\up\\sor\\venv\\Lib\\site-packages\\urllib3\\connectionpool.py\", line 1099, in _validate_conn\n",
      "    conn.connect()\n",
      "  File \"D:\\Desenvolvimento\\Repositorios\\up\\sor\\venv\\Lib\\site-packages\\urllib3\\connection.py\", line 616, in connect\n",
      "    self.sock = sock = self._new_conn()\n",
      "                       ^^^^^^^^^^^^^^^^\n",
      "  File \"D:\\Desenvolvimento\\Repositorios\\up\\sor\\venv\\Lib\\site-packages\\urllib3\\connection.py\", line 207, in _new_conn\n",
      "    raise ConnectTimeoutError(\n",
      "urllib3.exceptions.ConnectTimeoutError: (<urllib3.connection.HTTPSConnection object at 0x0000023ADEE45250>, 'Connection to www.pre.uporto.pt timed out. (connect timeout=None)')\n",
      "\n",
      "The above exception was the direct cause of the following exception:\n",
      "\n",
      "Traceback (most recent call last):\n",
      "  File \"D:\\Desenvolvimento\\Repositorios\\up\\sor\\venv\\Lib\\site-packages\\requests\\adapters.py\", line 486, in send\n",
      "    resp = conn.urlopen(\n",
      "           ^^^^^^^^^^^^^\n",
      "  File \"D:\\Desenvolvimento\\Repositorios\\up\\sor\\venv\\Lib\\site-packages\\urllib3\\connectionpool.py\", line 847, in urlopen\n",
      "    retries = retries.increment(\n",
      "              ^^^^^^^^^^^^^^^^^^\n",
      "  File \"D:\\Desenvolvimento\\Repositorios\\up\\sor\\venv\\Lib\\site-packages\\urllib3\\util\\retry.py\", line 515, in increment\n",
      "    raise MaxRetryError(_pool, url, reason) from reason  # type: ignore[arg-type]\n",
      "    ^^^^^^^^^^^^^^^^^^^^^^^^^^^^^^^^^^^^^^^^^^^^^^^^^^^\n",
      "urllib3.exceptions.MaxRetryError: HTTPSConnectionPool(host='www.pre.uporto.pt', port=443): Max retries exceeded with url: /cartao/api/v1/search_member/ (Caused by ConnectTimeoutError(<urllib3.connection.HTTPSConnection object at 0x0000023ADEE45250>, 'Connection to www.pre.uporto.pt timed out. (connect timeout=None)'))\n",
      "\n",
      "During handling of the above exception, another exception occurred:\n",
      "\n",
      "Traceback (most recent call last):\n",
      "  File \"D:\\Desenvolvimento\\Repositorios\\up\\sor\\sor.py\", line 151, in post_json\n",
      "    resp = self.oauth_session.post(url, **kwargs)\n",
      "           ^^^^^^^^^^^^^^^^^^^^^^^^^^^^^^^^^^^^^^\n",
      "  File \"D:\\Desenvolvimento\\Repositorios\\up\\sor\\venv\\Lib\\site-packages\\requests\\sessions.py\", line 637, in post\n",
      "    return self.request(\"POST\", url, data=data, json=json, **kwargs)\n",
      "           ^^^^^^^^^^^^^^^^^^^^^^^^^^^^^^^^^^^^^^^^^^^^^^^^^^^^^^^^^\n",
      "  File \"D:\\Desenvolvimento\\Repositorios\\up\\sor\\venv\\Lib\\site-packages\\requests_oauthlib\\oauth2_session.py\", line 521, in request\n",
      "    return super(OAuth2Session, self).request(\n",
      "           ^^^^^^^^^^^^^^^^^^^^^^^^^^^^^^^^^^^\n",
      "  File \"D:\\Desenvolvimento\\Repositorios\\up\\sor\\venv\\Lib\\site-packages\\requests\\sessions.py\", line 589, in request\n",
      "    resp = self.send(prep, **send_kwargs)\n",
      "           ^^^^^^^^^^^^^^^^^^^^^^^^^^^^^^\n",
      "  File \"D:\\Desenvolvimento\\Repositorios\\up\\sor\\venv\\Lib\\site-packages\\requests\\sessions.py\", line 703, in send\n",
      "    r = adapter.send(request, **kwargs)\n",
      "        ^^^^^^^^^^^^^^^^^^^^^^^^^^^^^^^\n",
      "  File \"D:\\Desenvolvimento\\Repositorios\\up\\sor\\venv\\Lib\\site-packages\\requests\\adapters.py\", line 507, in send\n",
      "    raise ConnectTimeout(e, request=request)\n",
      "requests.exceptions.ConnectTimeout: HTTPSConnectionPool(host='www.pre.uporto.pt', port=443): Max retries exceeded with url: /cartao/api/v1/search_member/ (Caused by ConnectTimeoutError(<urllib3.connection.HTTPSConnection object at 0x0000023ADEE45250>, 'Connection to www.pre.uporto.pt timed out. (connect timeout=None)'))\n"
     ]
    },
    {
     "data": {
      "text/plain": "{'error': 'Timeout'}"
     },
     "execution_count": 3,
     "metadata": {},
     "output_type": "execute_result"
    }
   ],
   "source": [
    "my_sor.post_json(\n",
    "    url=\"https://www.pre.uporto.pt/cartao/api/v1/search_member/\",\n",
    "    json={\n",
    "        \"partnerCode\": \"900\",\n",
    "        \"populationCode\": \"F\",\n",
    "        \"memberId\": \"450097\",\n",
    "    },\n",
    ")"
   ],
   "metadata": {
    "collapsed": false,
    "ExecuteTime": {
     "end_time": "2024-03-01T17:45:16.970895400Z",
     "start_time": "2024-03-01T17:44:55.909910400Z"
    }
   },
   "id": "9980451b52e6b6cd",
   "execution_count": 3
  },
  {
   "cell_type": "code",
   "outputs": [],
   "source": [],
   "metadata": {
    "collapsed": false,
    "ExecuteTime": {
     "end_time": "2024-03-01T17:45:16.972900700Z",
     "start_time": "2024-03-01T17:45:16.969047900Z"
    }
   },
   "id": "4dc7b79a3921bf6e",
   "execution_count": 3
  },
  {
   "cell_type": "code",
   "outputs": [],
   "source": [],
   "metadata": {
    "collapsed": false,
    "ExecuteTime": {
     "end_time": "2024-03-01T17:45:16.974697100Z",
     "start_time": "2024-03-01T17:45:16.972900700Z"
    }
   },
   "id": "29f884da27d7726f",
   "execution_count": 3
  }
 ],
 "metadata": {
  "kernelspec": {
   "display_name": "Python 3",
   "language": "python",
   "name": "python3"
  },
  "language_info": {
   "codemirror_mode": {
    "name": "ipython",
    "version": 2
   },
   "file_extension": ".py",
   "mimetype": "text/x-python",
   "name": "python",
   "nbconvert_exporter": "python",
   "pygments_lexer": "ipython2",
   "version": "2.7.6"
  }
 },
 "nbformat": 4,
 "nbformat_minor": 5
}
