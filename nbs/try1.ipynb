{
 "cells": [
  {
   "cell_type": "markdown",
   "source": [
    "# Utilizando a Classe SimpleOAuth2Requests"
   ],
   "metadata": {
    "collapsed": false
   },
   "id": "fb38f77f6a919dce"
  },
  {
   "cell_type": "code",
   "execution_count": null,
   "id": "initial_id",
   "metadata": {
    "collapsed": true
   },
   "outputs": [],
   "source": [
    "from sor import SimpleOAuth2Requests"
   ]
  },
  {
   "cell_type": "code",
   "outputs": [],
   "source": [
    "my_sor = SimpleOAuth2Requests(auto_refresh=True)"
   ],
   "metadata": {
    "collapsed": false
   },
   "id": "adcd855e1ada0123",
   "execution_count": null
  },
  {
   "cell_type": "code",
   "outputs": [],
   "source": [
    "dados_recebidos = my_sor.post_json(\n",
    "    url=\"<URL>>\",\n",
    "    json={\n",
    "        ...\n",
    "    },\n",
    ")"
   ],
   "metadata": {
    "collapsed": false
   },
   "id": "9980451b52e6b6cd",
   "execution_count": null
  }
 ],
 "metadata": {
  "kernelspec": {
   "display_name": "Python 3",
   "language": "python",
   "name": "python3"
  },
  "language_info": {
   "codemirror_mode": {
    "name": "ipython",
    "version": 2
   },
   "file_extension": ".py",
   "mimetype": "text/x-python",
   "name": "python",
   "nbconvert_exporter": "python",
   "pygments_lexer": "ipython2",
   "version": "2.7.6"
  }
 },
 "nbformat": 4,
 "nbformat_minor": 5
}
