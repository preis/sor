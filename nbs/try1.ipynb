{
 "cells": [
  {
   "cell_type": "code",
   "execution_count": 1,
   "id": "initial_id",
   "metadata": {
    "collapsed": true,
    "ExecuteTime": {
     "end_time": "2024-02-29T17:03:48.169371Z",
     "start_time": "2024-02-29T17:03:48.023314Z"
    }
   },
   "outputs": [],
   "source": [
    "from sor import SimpleOAuthRequest"
   ]
  },
  {
   "cell_type": "code",
   "outputs": [
    {
     "ename": "ValueError",
     "evalue": "Please supply either code or authorization_response parameters.",
     "output_type": "error",
     "traceback": [
      "\u001B[1;31m---------------------------------------------------------------------------\u001B[0m",
      "\u001B[1;31mValueError\u001B[0m                                Traceback (most recent call last)",
      "Cell \u001B[1;32mIn[2], line 1\u001B[0m\n\u001B[1;32m----> 1\u001B[0m my_sor \u001B[38;5;241m=\u001B[39m \u001B[43mSimpleOAuthRequest\u001B[49m\u001B[43m(\u001B[49m\u001B[43m)\u001B[49m\n",
      "File \u001B[1;32m~\\Desenvolvimento\\Repositorios\\Pessoais\\Simple OAuth Request\\sor.py:31\u001B[0m, in \u001B[0;36mSimpleOAuthRequest.__init__\u001B[1;34m(self, auto_refresh)\u001B[0m\n\u001B[0;32m     29\u001B[0m \u001B[38;5;28mself\u001B[39m\u001B[38;5;241m.\u001B[39m_fetch_client_config()\n\u001B[0;32m     30\u001B[0m \u001B[38;5;28mself\u001B[39m\u001B[38;5;241m.\u001B[39m_init_client()\n\u001B[1;32m---> 31\u001B[0m \u001B[38;5;28;43mself\u001B[39;49m\u001B[38;5;241;43m.\u001B[39;49m\u001B[43m_fetch_token\u001B[49m\u001B[43m(\u001B[49m\u001B[43m)\u001B[49m\n\u001B[0;32m     32\u001B[0m \u001B[38;5;28mself\u001B[39m\u001B[38;5;241m.\u001B[39mauto_refresh \u001B[38;5;241m=\u001B[39m auto_refresh\n",
      "File \u001B[1;32m~\\Desenvolvimento\\Repositorios\\Pessoais\\Simple OAuth Request\\sor.py:66\u001B[0m, in \u001B[0;36mSimpleOAuthRequest._fetch_token\u001B[1;34m(self)\u001B[0m\n\u001B[0;32m     65\u001B[0m \u001B[38;5;28;01mdef\u001B[39;00m \u001B[38;5;21m_fetch_token\u001B[39m(\u001B[38;5;28mself\u001B[39m):\n\u001B[1;32m---> 66\u001B[0m     token \u001B[38;5;241m=\u001B[39m \u001B[38;5;28;43mself\u001B[39;49m\u001B[38;5;241;43m.\u001B[39;49m\u001B[43moauth\u001B[49m\u001B[38;5;241;43m.\u001B[39;49m\u001B[43mfetch_token\u001B[49m\u001B[43m(\u001B[49m\n\u001B[0;32m     67\u001B[0m \u001B[43m        \u001B[49m\u001B[43mtoken_url\u001B[49m\u001B[38;5;241;43m=\u001B[39;49m\u001B[38;5;124;43mf\u001B[39;49m\u001B[38;5;124;43m\"\u001B[39;49m\u001B[38;5;132;43;01m{\u001B[39;49;00m\u001B[38;5;28;43mself\u001B[39;49m\u001B[38;5;241;43m.\u001B[39;49m\u001B[43mrealm_base_url\u001B[49m\u001B[38;5;132;43;01m}\u001B[39;49;00m\u001B[38;5;124;43m/protocol/openid-connect/token\u001B[39;49m\u001B[38;5;124;43m\"\u001B[39;49m\u001B[43m,\u001B[49m\n\u001B[0;32m     68\u001B[0m \u001B[43m        \u001B[49m\u001B[43mclient_id\u001B[49m\u001B[38;5;241;43m=\u001B[39;49m\u001B[38;5;28;43mself\u001B[39;49m\u001B[38;5;241;43m.\u001B[39;49m\u001B[43mclient_id\u001B[49m\u001B[43m,\u001B[49m\n\u001B[0;32m     69\u001B[0m \u001B[43m        \u001B[49m\u001B[43mclient_secret\u001B[49m\u001B[38;5;241;43m=\u001B[39;49m\u001B[38;5;28;43mself\u001B[39;49m\u001B[38;5;241;43m.\u001B[39;49m\u001B[43mclient_secret\u001B[49m\n\u001B[0;32m     70\u001B[0m \u001B[43m    \u001B[49m\u001B[43m)\u001B[49m\n\u001B[0;32m     71\u001B[0m     \u001B[38;5;28mself\u001B[39m\u001B[38;5;241m.\u001B[39m_guardar_token(token)\n",
      "File \u001B[1;32m~\\Desenvolvimento\\Repositorios\\Pessoais\\Simple OAuth Request\\.venv\\lib\\site-packages\\requests_oauthlib\\oauth2_session.py:251\u001B[0m, in \u001B[0;36mOAuth2Session.fetch_token\u001B[1;34m(self, token_url, code, authorization_response, body, auth, username, password, method, force_querystring, timeout, headers, verify, proxies, include_client_id, client_secret, cert, **kwargs)\u001B[0m\n\u001B[0;32m    249\u001B[0m     code \u001B[38;5;241m=\u001B[39m \u001B[38;5;28mself\u001B[39m\u001B[38;5;241m.\u001B[39m_client\u001B[38;5;241m.\u001B[39mcode\n\u001B[0;32m    250\u001B[0m     \u001B[38;5;28;01mif\u001B[39;00m \u001B[38;5;129;01mnot\u001B[39;00m code:\n\u001B[1;32m--> 251\u001B[0m         \u001B[38;5;28;01mraise\u001B[39;00m \u001B[38;5;167;01mValueError\u001B[39;00m(\n\u001B[0;32m    252\u001B[0m             \u001B[38;5;124m\"\u001B[39m\u001B[38;5;124mPlease supply either code or \u001B[39m\u001B[38;5;124m\"\u001B[39m \u001B[38;5;124m\"\u001B[39m\u001B[38;5;124mauthorization_response parameters.\u001B[39m\u001B[38;5;124m\"\u001B[39m\n\u001B[0;32m    253\u001B[0m         )\n\u001B[0;32m    255\u001B[0m \u001B[38;5;66;03m# Earlier versions of this library build an HTTPBasicAuth header out of\u001B[39;00m\n\u001B[0;32m    256\u001B[0m \u001B[38;5;66;03m# `username` and `password`. The RFC states, however these attributes\u001B[39;00m\n\u001B[0;32m    257\u001B[0m \u001B[38;5;66;03m# must be in the request body and not the header.\u001B[39;00m\n\u001B[1;32m   (...)\u001B[0m\n\u001B[0;32m    264\u001B[0m \u001B[38;5;66;03m# 4.3.2 - Resource Owner Password Credentials Grant\u001B[39;00m\n\u001B[0;32m    265\u001B[0m \u001B[38;5;66;03m#         https://tools.ietf.org/html/rfc6749#section-4.3.2\u001B[39;00m\n\u001B[0;32m    267\u001B[0m \u001B[38;5;28;01mif\u001B[39;00m \u001B[38;5;28misinstance\u001B[39m(\u001B[38;5;28mself\u001B[39m\u001B[38;5;241m.\u001B[39m_client, LegacyApplicationClient):\n",
      "\u001B[1;31mValueError\u001B[0m: Please supply either code or authorization_response parameters."
     ]
    }
   ],
   "source": [
    "my_sor = SimpleOAuthRequest()"
   ],
   "metadata": {
    "collapsed": false,
    "ExecuteTime": {
     "end_time": "2024-02-29T17:03:48.650295Z",
     "start_time": "2024-02-29T17:03:48.171144Z"
    }
   },
   "id": "adcd855e1ada0123",
   "execution_count": 2
  },
  {
   "cell_type": "code",
   "outputs": [],
   "source": [],
   "metadata": {
    "collapsed": false,
    "ExecuteTime": {
     "start_time": "2024-02-29T17:03:48.652297Z"
    }
   },
   "id": "9eb743a76a309fce",
   "execution_count": null
  },
  {
   "cell_type": "code",
   "outputs": [],
   "source": [
    "user_info = my_sor._fetch_user_info()"
   ],
   "metadata": {
    "collapsed": false,
    "ExecuteTime": {
     "start_time": "2024-02-29T17:03:48.653297Z"
    }
   },
   "id": "c2a4dd678260e1fd",
   "execution_count": null
  },
  {
   "cell_type": "code",
   "outputs": [],
   "source": [
    "user_info"
   ],
   "metadata": {
    "collapsed": false
   },
   "id": "8f44ecf2a6823ebe",
   "execution_count": null
  },
  {
   "cell_type": "code",
   "outputs": [],
   "source": [],
   "metadata": {
    "collapsed": false
   },
   "id": "9980451b52e6b6cd",
   "execution_count": null
  }
 ],
 "metadata": {
  "kernelspec": {
   "display_name": "Python 3",
   "language": "python",
   "name": "python3"
  },
  "language_info": {
   "codemirror_mode": {
    "name": "ipython",
    "version": 2
   },
   "file_extension": ".py",
   "mimetype": "text/x-python",
   "name": "python",
   "nbconvert_exporter": "python",
   "pygments_lexer": "ipython2",
   "version": "2.7.6"
  }
 },
 "nbformat": 4,
 "nbformat_minor": 5
}
