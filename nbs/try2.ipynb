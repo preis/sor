{
 "cells": [
  {
   "cell_type": "markdown",
   "source": [
    "# Utilização direta das bibliotecas"
   ],
   "metadata": {
    "collapsed": false
   },
   "id": "dda57672aba158b1"
  },
  {
   "cell_type": "code",
   "execution_count": null,
   "id": "initial_id",
   "metadata": {
    "collapsed": true
   },
   "outputs": [],
   "source": [
    "import os\n",
    "import requests\n",
    "from dotenv import load_dotenv\n",
    "from oauthlib.oauth2 import BackendApplicationClient\n",
    "from requests_oauthlib import OAuth2Session\n",
    "\n",
    "load_dotenv()\n",
    "\n",
    "client_id = os.getenv(\"OIDC_CLIENT_ID\")\n",
    "client_secret = os.getenv(\"OIDC_CLIENT_SECRET\")\n",
    "realm_base_url = os.getenv(\"OIDC_REALM_BASE_URL\")\n",
    "token = None\n",
    "extra_kwargs = {\n",
    "    \"client_id\": client_id,\n",
    "    \"client_secret\": client_secret,\n",
    "}\n",
    "\n",
    "\n",
    "def _guardar_token(self, new_token):\n",
    "    \"\"\"Guarda o token. TODO: persistir em sessão ou BD.\"\"\"\n",
    "    token = new_token\n"
   ]
  },
  {
   "cell_type": "code",
   "outputs": [],
   "source": [
    "oauth_client = BackendApplicationClient(client_id=client_id)\n",
    "oauth_session = OAuth2Session(\n",
    "    client=oauth_client,\n",
    "    token=token,\n",
    "    auto_refresh_url=f\"{realm_base_url}/protocol/openid-connect/token\",\n",
    "    auto_refresh_kwargs={\n",
    "        \"client_id\": client_id,\n",
    "        \"client_secret\": client_secret,\n",
    "    },\n",
    "    token_updater=_guardar_token\n",
    ")\n"
   ],
   "metadata": {
    "collapsed": false
   },
   "id": "fde7ab7d8f6c95c2",
   "execution_count": null
  },
  {
   "cell_type": "code",
   "outputs": [],
   "source": [
    "token = oauth_session.fetch_token(\n",
    "    token_url=f\"{realm_base_url}/protocol/openid-connect/token\",\n",
    "    client_id=client_id,\n",
    "    client_secret=client_secret\n",
    ")"
   ],
   "metadata": {
    "collapsed": false
   },
   "id": "f19c00fc94e8aa23",
   "execution_count": null
  },
  {
   "cell_type": "code",
   "outputs": [],
   "source": [
    "resp = requests.get(f\"{realm_base_url}/.well-known/openid-configuration\")\n",
    "openid_cfg = resp.json()\n"
   ],
   "metadata": {
    "collapsed": false
   },
   "id": "f9c8d1e0e2beb315",
   "execution_count": null
  },
  {
   "cell_type": "code",
   "outputs": [],
   "source": [
    "search_member = oauth_session.post(\n",
    "    url=\"<URL>\",\n",
    "    json={\n",
    "        ...\n",
    "    }\n",
    ")"
   ],
   "metadata": {
    "collapsed": false
   },
   "id": "b12530b50aa5edb8",
   "execution_count": null
  },
  {
   "cell_type": "code",
   "outputs": [],
   "source": [
    "search_member.json()"
   ],
   "metadata": {
    "collapsed": false
   },
   "id": "882e6bbfdb11c3b4",
   "execution_count": null
  }
 ],
 "metadata": {
  "kernelspec": {
   "display_name": "Python 3",
   "language": "python",
   "name": "python3"
  },
  "language_info": {
   "codemirror_mode": {
    "name": "ipython",
    "version": 2
   },
   "file_extension": ".py",
   "mimetype": "text/x-python",
   "name": "python",
   "nbconvert_exporter": "python",
   "pygments_lexer": "ipython2",
   "version": "2.7.6"
  }
 },
 "nbformat": 4,
 "nbformat_minor": 5
}
